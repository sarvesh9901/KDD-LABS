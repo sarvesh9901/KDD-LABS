{
 "cells": [
  {
   "cell_type": "code",
   "execution_count": 1,
   "metadata": {},
   "outputs": [],
   "source": [
    "import numpy as np  \n",
    "import pandas as pd  \n",
    "from mlxtend.frequent_patterns import apriori, association_rules  \n",
    "\n",
    "data1 = pd.read_excel(r\"E:\\DYPIU\\SEM 6\\KDD\\KDD LABS\\LAB_06\\Online Retail.xlsx\")  \n",
    "data1.head()  \n",
    "\n",
    "# here, we will explore the columns of the data  \n",
    "data1.columns  \n",
    "\n",
    "# Now, we will explore the different regions of transactions  \n",
    "data1.Country.unique()  \n",
    "\n",
    "\n",
    "# here, we will strip the extra spaces in the description  \n",
    "data1['Description'] = data1['Description'].str.strip()  \n",
    "  \n",
    "# Now, drop the rows which does not have any invoice number  \n",
    "data1.dropna(axis = 0, subset = ['InvoiceNo'], inplace = True)  \n",
    "data1['InvoiceNo'] = data1['InvoiceNo'].astype('str')  \n",
    "  \n",
    "# Now, we will drop all transactions which were done on credit  \n",
    "data1 = data1[data1['InvoiceNo'].str.contains('C')]  \n",
    "\n",
    "# Transactions done in France  \n",
    "basket1_France = (data1[data1['Country'] == \"France\"]  \n",
    "        .groupby(['InvoiceNo', 'Description'])['Quantity']  \n",
    "        .sum().unstack().reset_index().fillna(0)  \n",
    "        .set_index('InvoiceNo'))  \n",
    "  \n",
    "# Transactions done in the United Kingdom  \n",
    "basket1_UK = (data1[data1['Country'] == \"United Kingdom\"]  \n",
    "        .groupby(['InvoiceNo', 'Description'])['Quantity']  \n",
    "        .sum().unstack().reset_index().fillna(0)  \n",
    "        .set_index('InvoiceNo'))  \n",
    "  \n",
    "# Transactions done in Portugal  \n",
    "basket1_Por = (data1[data1['Country'] == \"Portugal\"]  \n",
    "        .groupby(['InvoiceNo', 'Description'])['Quantity']  \n",
    "        .sum().unstack().reset_index().fillna(0)  \n",
    "        .set_index('InvoiceNo'))  \n",
    "  \n",
    "basket1_Sweden = (data1[data1['Country'] == \"Sweden\"]  \n",
    "        .groupby(['InvoiceNo', 'Description'])['Quantity']  \n",
    "        .sum().unstack().reset_index().fillna(0)  \n",
    "        .set_index('InvoiceNo'))  \n",
    "\n",
    "\n",
    "\n"
   ]
  },
  {
   "cell_type": "code",
   "execution_count": 2,
   "metadata": {},
   "outputs": [],
   "source": [
    "# Here, we will define the hot encoding function   \n",
    "# for making the data suitable  \n",
    "# for the concerned libraries  \n",
    "def hot_encode1(P):  \n",
    "    if(P<= 0):  \n",
    "        return 0  \n",
    "    if(P>= 1):  \n",
    "        return 1  \n",
    "  \n",
    " \n",
    "basket1_encoded = basket1_France.applymap(hot_encode1)  \n",
    "basket1_France = basket1_encoded  \n",
    "  \n",
    "basket1_encoded = basket1_UK.applymap(hot_encode1)  \n",
    "basket1_UK = basket1_encoded  \n",
    "  \n",
    "basket1_encoded = basket1_Por.applymap(hot_encode1)  \n",
    "basket1_Por = basket1_encoded  \n",
    "  \n",
    "basket1_encoded = basket1_Sweden.applymap(hot_encode1)  \n",
    "basket1_Sweden = basket1_encoded  "
   ]
  },
  {
   "cell_type": "code",
   "execution_count": 4,
   "metadata": {},
   "outputs": [
    {
     "ename": "NameError",
     "evalue": "name 'AR' is not defined",
     "output_type": "error",
     "traceback": [
      "\u001b[1;31m---------------------------------------------------------------------------\u001b[0m",
      "\u001b[1;31mNameError\u001b[0m                                 Traceback (most recent call last)",
      "\u001b[1;32m<ipython-input-4-67ba8b540b77>\u001b[0m in \u001b[0;36m<module>\u001b[1;34m\u001b[0m\n\u001b[0;32m      1\u001b[0m \u001b[1;31m# Build the model\u001b[0m\u001b[1;33m\u001b[0m\u001b[1;33m\u001b[0m\u001b[1;33m\u001b[0m\u001b[0m\n\u001b[1;32m----> 2\u001b[1;33m \u001b[0mfrq_items1\u001b[0m \u001b[1;33m=\u001b[0m \u001b[0mAR\u001b[0m\u001b[1;33m(\u001b[0m\u001b[0mbasket1_France\u001b[0m\u001b[1;33m,\u001b[0m \u001b[0mmin_support\u001b[0m \u001b[1;33m=\u001b[0m \u001b[1;36m0.05\u001b[0m\u001b[1;33m,\u001b[0m \u001b[0muse_colnames\u001b[0m \u001b[1;33m=\u001b[0m \u001b[1;32mTrue\u001b[0m\u001b[1;33m)\u001b[0m\u001b[1;33m\u001b[0m\u001b[1;33m\u001b[0m\u001b[0m\n\u001b[0m\u001b[0;32m      3\u001b[0m \u001b[1;33m\u001b[0m\u001b[0m\n\u001b[0;32m      4\u001b[0m \u001b[1;31m# Collect the inferred rules in a dataframe\u001b[0m\u001b[1;33m\u001b[0m\u001b[1;33m\u001b[0m\u001b[1;33m\u001b[0m\u001b[0m\n\u001b[0;32m      5\u001b[0m \u001b[0mrules1\u001b[0m \u001b[1;33m=\u001b[0m \u001b[0mAR\u001b[0m\u001b[1;33m(\u001b[0m\u001b[0mfrq_items1\u001b[0m\u001b[1;33m,\u001b[0m \u001b[0mmetric\u001b[0m \u001b[1;33m=\u001b[0m \u001b[1;34m\"lift\"\u001b[0m\u001b[1;33m,\u001b[0m \u001b[0mmin_threshold\u001b[0m \u001b[1;33m=\u001b[0m \u001b[1;36m1\u001b[0m\u001b[1;33m)\u001b[0m\u001b[1;33m\u001b[0m\u001b[1;33m\u001b[0m\u001b[0m\n",
      "\u001b[1;31mNameError\u001b[0m: name 'AR' is not defined"
     ]
    }
   ],
   "source": [
    "# Build the model  \n",
    "frq_items1 = AR(basket1_France, min_support = 0.05, use_colnames = True)  \n",
    "  \n",
    "# Collect the inferred rules in a dataframe  \n",
    "rules1 = AR(frq_items1, metric = \"lift\", min_threshold = 1)  \n",
    "rules1 = rules1.sort_values(['confidence', 'lift'], ascending = [False, False])  \n",
    "print(rules1.head())"
   ]
  },
  {
   "cell_type": "code",
   "execution_count": null,
   "metadata": {},
   "outputs": [],
   "source": []
  }
 ],
 "metadata": {
  "kernelspec": {
   "display_name": "Python 3",
   "language": "python",
   "name": "python3"
  },
  "language_info": {
   "codemirror_mode": {
    "name": "ipython",
    "version": 3
   },
   "file_extension": ".py",
   "mimetype": "text/x-python",
   "name": "python",
   "nbconvert_exporter": "python",
   "pygments_lexer": "ipython3",
   "version": "3.8.3"
  }
 },
 "nbformat": 4,
 "nbformat_minor": 4
}
